{
 "cells": [
  {
   "cell_type": "code",
   "id": "7a23f15212a40c5",
   "metadata": {
    "collapsed": true,
    "ExecuteTime": {
     "end_time": "2024-05-20T21:41:34.825564Z",
     "start_time": "2024-05-20T21:41:34.779482Z"
    }
   },
   "source": [
    "import numpy as np\n",
    "from sklearn.decomposition import PCA\n",
    "from sklearn.linear_model import LogisticRegression\n",
    "from sklearn.pipeline import Pipeline\n",
    "from sklearn.datasets import load_iris\n",
    "from sklearn.model_selection import train_test_split\n",
    "from skl2onnx import convert_sklearn\n",
    "from skl2onnx.common.data_types import FloatTensorType\n",
    "\n",
    "# Load the Iris dataset\n",
    "iris = load_iris()\n",
    "X, y = iris.data, iris.target\n",
    "\n",
    "# Split the dataset into training and test sets\n",
    "X_train, X_test, y_train, y_test = train_test_split(X, y, test_size=0.2)\n",
    "\n",
    "# Create a pipeline with PCA and logistic regression\n",
    "pipeline = Pipeline([\n",
    "    ('pca', PCA(n_components=2)),\n",
    "    ('logistic_regression', LogisticRegression())\n",
    "])\n",
    "pipeline"
   ],
   "outputs": [
    {
     "data": {
      "text/plain": [
       "Pipeline(steps=[('pca', PCA(n_components=2)),\n",
       "                ('logistic_regression', LogisticRegression())])"
      ]
     },
     "execution_count": 8,
     "metadata": {},
     "output_type": "execute_result"
    }
   ],
   "execution_count": 8
  },
  {
   "metadata": {
    "ExecuteTime": {
     "end_time": "2024-05-20T21:42:19.263375Z",
     "start_time": "2024-05-20T21:42:19.224320Z"
    }
   },
   "cell_type": "code",
   "source": [
    "\n",
    "# Train the pipeline\n",
    "pipeline.fit(X_train, y_train)\n",
    "\n",
    "# Define the initial types for the ONNX model\n",
    "initial_type = [('float_input', FloatTensorType([None, X_train.shape[1]]))]\n",
    "\n",
    "# Convert the pipeline to ONNX\n",
    "onnx_model = convert_sklearn(pipeline, initial_types=initial_type)\n",
    "onnx_model"
   ],
   "id": "bda483c0f9862b12",
   "outputs": [
    {
     "data": {
      "text/plain": [
       "ir_version: 9\n",
       "producer_name: \"skl2onnx\"\n",
       "producer_version: \"1.17.0\"\n",
       "domain: \"ai.onnx\"\n",
       "model_version: 0\n",
       "doc_string: \"\"\n",
       "graph {\n",
       "  node {\n",
       "    input: \"float_input\"\n",
       "    input: \"mean\"\n",
       "    output: \"sub_result\"\n",
       "    name: \"Sub\"\n",
       "    op_type: \"Sub\"\n",
       "    domain: \"\"\n",
       "  }\n",
       "  node {\n",
       "    input: \"sub_result\"\n",
       "    input: \"transform_matrix\"\n",
       "    output: \"variable\"\n",
       "    name: \"MatMul\"\n",
       "    op_type: \"MatMul\"\n",
       "    domain: \"\"\n",
       "  }\n",
       "  node {\n",
       "    input: \"variable\"\n",
       "    output: \"label\"\n",
       "    output: \"probability_tensor\"\n",
       "    name: \"LinearClassifier\"\n",
       "    op_type: \"LinearClassifier\"\n",
       "    attribute {\n",
       "      name: \"classlabels_ints\"\n",
       "      ints: 0\n",
       "      ints: 1\n",
       "      ints: 2\n",
       "      type: INTS\n",
       "    }\n",
       "    attribute {\n",
       "      name: \"coefficients\"\n",
       "      floats: -2.6541717052459717\n",
       "      floats: 0.924582839012146\n",
       "      floats: -0.2773626446723938\n",
       "      floats: 0.2747637629508972\n",
       "      floats: 2.9315342903137207\n",
       "      floats: -1.199346661567688\n",
       "      type: FLOATS\n",
       "    }\n",
       "    attribute {\n",
       "      name: \"intercepts\"\n",
       "      floats: -0.4931544065475464\n",
       "      floats: 2.3120181560516357\n",
       "      floats: -1.8188637495040894\n",
       "      type: FLOATS\n",
       "    }\n",
       "    attribute {\n",
       "      name: \"multi_class\"\n",
       "      i: 1\n",
       "      type: INT\n",
       "    }\n",
       "    attribute {\n",
       "      name: \"post_transform\"\n",
       "      s: \"SOFTMAX\"\n",
       "      type: STRING\n",
       "    }\n",
       "    domain: \"ai.onnx.ml\"\n",
       "  }\n",
       "  node {\n",
       "    input: \"label\"\n",
       "    output: \"output_label\"\n",
       "    name: \"Cast\"\n",
       "    op_type: \"Cast\"\n",
       "    attribute {\n",
       "      name: \"to\"\n",
       "      i: 7\n",
       "      type: INT\n",
       "    }\n",
       "    domain: \"\"\n",
       "  }\n",
       "  node {\n",
       "    input: \"probability_tensor\"\n",
       "    output: \"probabilities\"\n",
       "    name: \"Normalizer\"\n",
       "    op_type: \"Normalizer\"\n",
       "    attribute {\n",
       "      name: \"norm\"\n",
       "      s: \"L1\"\n",
       "      type: STRING\n",
       "    }\n",
       "    domain: \"ai.onnx.ml\"\n",
       "  }\n",
       "  node {\n",
       "    input: \"probabilities\"\n",
       "    output: \"output_probability\"\n",
       "    name: \"ZipMap\"\n",
       "    op_type: \"ZipMap\"\n",
       "    attribute {\n",
       "      name: \"classlabels_int64s\"\n",
       "      ints: 0\n",
       "      ints: 1\n",
       "      ints: 2\n",
       "      type: INTS\n",
       "    }\n",
       "    domain: \"ai.onnx.ml\"\n",
       "  }\n",
       "  name: \"b36385bd567a4df2b560ae33959a59b8\"\n",
       "  initializer {\n",
       "    dims: 4\n",
       "    dims: 2\n",
       "    data_type: 1\n",
       "    float_data: 0.3621252477169037\n",
       "    float_data: 0.6516144275665283\n",
       "    float_data: -0.07516071200370789\n",
       "    float_data: 0.733102560043335\n",
       "    float_data: 0.8572763204574585\n",
       "    float_data: -0.1765507310628891\n",
       "    float_data: 0.35818082094192505\n",
       "    float_data: -0.08239627629518509\n",
       "    name: \"transform_matrix\"\n",
       "  }\n",
       "  initializer {\n",
       "    dims: 4\n",
       "    data_type: 1\n",
       "    float_data: 5.862500190734863\n",
       "    float_data: 3.055000066757202\n",
       "    float_data: 3.7841665744781494\n",
       "    float_data: 1.2166666984558105\n",
       "    name: \"mean\"\n",
       "  }\n",
       "  input {\n",
       "    name: \"float_input\"\n",
       "    type {\n",
       "      tensor_type {\n",
       "        elem_type: 1\n",
       "        shape {\n",
       "          dim {\n",
       "          }\n",
       "          dim {\n",
       "            dim_value: 4\n",
       "          }\n",
       "        }\n",
       "      }\n",
       "    }\n",
       "  }\n",
       "  output {\n",
       "    name: \"output_label\"\n",
       "    type {\n",
       "      tensor_type {\n",
       "        elem_type: 7\n",
       "        shape {\n",
       "          dim {\n",
       "          }\n",
       "        }\n",
       "      }\n",
       "    }\n",
       "  }\n",
       "  output {\n",
       "    name: \"output_probability\"\n",
       "    type {\n",
       "      sequence_type {\n",
       "        elem_type {\n",
       "          map_type {\n",
       "            key_type: 7\n",
       "            value_type {\n",
       "              tensor_type {\n",
       "                elem_type: 1\n",
       "              }\n",
       "            }\n",
       "          }\n",
       "        }\n",
       "      }\n",
       "    }\n",
       "  }\n",
       "}\n",
       "opset_import {\n",
       "  domain: \"\"\n",
       "  version: 13\n",
       "}\n",
       "opset_import {\n",
       "  domain: \"ai.onnx.ml\"\n",
       "  version: 1\n",
       "}"
      ]
     },
     "execution_count": 9,
     "metadata": {},
     "output_type": "execute_result"
    }
   ],
   "execution_count": 9
  },
  {
   "metadata": {
    "ExecuteTime": {
     "end_time": "2024-05-20T21:42:47.285110Z",
     "start_time": "2024-05-20T21:42:47.257986Z"
    }
   },
   "cell_type": "code",
   "source": [
    "\n",
    "# Save the model to a file\n",
    "with open(\"pipeline.onnx\", \"wb\") as f:\n",
    "    f.write(onnx_model.SerializeToString())"
   ],
   "id": "3b574f77d2f8c358",
   "outputs": [],
   "execution_count": 10
  },
  {
   "metadata": {
    "ExecuteTime": {
     "end_time": "2024-05-20T21:40:15.497448Z",
     "start_time": "2024-05-20T21:40:15.469672Z"
    }
   },
   "cell_type": "code",
   "source": [
    "\n",
    "# Load the ONNX model and run inference\n",
    "import onnxruntime as rt\n",
    "\n",
    "sess = rt.InferenceSession(\"pipeline.onnx\")\n",
    "sess"
   ],
   "id": "a7d57bc33ce9306d",
   "outputs": [
    {
     "data": {
      "text/plain": [
       "<onnxruntime.capi.onnxruntime_inference_collection.InferenceSession at 0x7fe4890825b0>"
      ]
     },
     "execution_count": 7,
     "metadata": {},
     "output_type": "execute_result"
    }
   ],
   "execution_count": 7
  },
  {
   "metadata": {
    "ExecuteTime": {
     "end_time": "2024-05-20T21:39:33.273604Z",
     "start_time": "2024-05-20T21:39:33.255972Z"
    }
   },
   "cell_type": "code",
   "source": [
    "input_name = sess.get_inputs()[0].name\n",
    "label_name = sess.get_outputs()[0].name\n",
    "pred_onx = sess.run([label_name], {input_name: X_test.astype(np.float32)})[0]\n",
    "\n",
    "# Output the predictions from ONNX model\n",
    "print(pred_onx)\n"
   ],
   "id": "initial_id",
   "outputs": [
    {
     "name": "stdout",
     "output_type": "stream",
     "text": [
      "[2 1 0 2 2 2 1 1 1 0 0 1 1 2 2 1 2 1 1 2 1 1 0 1 2 2 0 1 0 1]\n"
     ]
    }
   ],
   "execution_count": 5
  },
  {
   "metadata": {},
   "cell_type": "code",
   "outputs": [],
   "execution_count": null,
   "source": "",
   "id": "4b2e201375cc8f10"
  }
 ],
 "metadata": {
  "kernelspec": {
   "display_name": "Python 3",
   "language": "python",
   "name": "python3"
  },
  "language_info": {
   "codemirror_mode": {
    "name": "ipython",
    "version": 2
   },
   "file_extension": ".py",
   "mimetype": "text/x-python",
   "name": "python",
   "nbconvert_exporter": "python",
   "pygments_lexer": "ipython2",
   "version": "2.7.6"
  }
 },
 "nbformat": 4,
 "nbformat_minor": 5
}
