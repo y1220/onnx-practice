{
 "cells": [
  {
   "metadata": {},
   "cell_type": "markdown",
   "source": [
    "1. Train your PCA and the subsequent model using scikit-learn.\n",
    "2. Convert the entire pipeline to ONNX format using convert_sklearn from the skl2onnx package.\n",
    "\n",
    "In this example, we first create a pipeline that includes PCA and logistic regression. We then train this pipeline on the Iris dataset. After training, we define the initial types for the ONNX model and convert the entire pipeline to ONNX format. Finally, we save the ONNX model to a file."
   ],
   "id": "3a2754795904ab7"
  },
  {
   "cell_type": "code",
   "id": "7a23f15212a40c5",
   "metadata": {
    "collapsed": true,
    "ExecuteTime": {
     "end_time": "2024-05-20T21:41:34.825564Z",
     "start_time": "2024-05-20T21:41:34.779482Z"
    }
   },
   "source": [
    "import numpy as np\n",
    "from sklearn.decomposition import PCA\n",
    "from sklearn.linear_model import LogisticRegression\n",
    "from sklearn.pipeline import Pipeline\n",
    "from sklearn.datasets import load_iris\n",
    "from sklearn.model_selection import train_test_split\n",
    "from skl2onnx import convert_sklearn\n",
    "from skl2onnx.common.data_types import FloatTensorType\n",
    "\n",
    "# Load the Iris dataset\n",
    "iris = load_iris()\n",
    "X, y = iris.data, iris.target\n",
    "\n",
    "# Split the dataset into training and test sets\n",
    "X_train, X_test, y_train, y_test = train_test_split(X, y, test_size=0.2)\n",
    "\n",
    "# Create a pipeline with PCA and logistic regression\n",
    "pipeline = Pipeline([\n",
    "    ('pca', PCA(n_components=2)),\n",
    "    ('logistic_regression', LogisticRegression())\n",
    "])\n",
    "pipeline"
   ],
   "outputs": [
    {
     "data": {
      "text/plain": [
       "Pipeline(steps=[('pca', PCA(n_components=2)),\n",
       "                ('logistic_regression', LogisticRegression())])"
      ]
     },
     "execution_count": 8,
     "metadata": {},
     "output_type": "execute_result"
    }
   ],
   "execution_count": 8
  },
  {
   "metadata": {
    "ExecuteTime": {
     "end_time": "2024-05-20T21:42:19.263375Z",
     "start_time": "2024-05-20T21:42:19.224320Z"
    }
   },
   "cell_type": "code",
   "source": [
    "\n",
    "# Train the pipeline\n",
    "pipeline.fit(X_train, y_train)\n",
    "\n",
    "# Define the initial types for the ONNX model\n",
    "initial_type = [('float_input', FloatTensorType([None, X_train.shape[1]]))]\n",
    "\n",
    "# Convert the pipeline to ONNX\n",
    "onnx_model = convert_sklearn(pipeline, initial_types=initial_type)\n",
    "onnx_model"
   ],
   "id": "bda483c0f9862b12",
   "outputs": [
    {
     "data": {
      "text/plain": [
       "ir_version: 9\n",
       "producer_name: \"skl2onnx\"\n",
       "producer_version: \"1.17.0\"\n",
       "domain: \"ai.onnx\"\n",
       "model_version: 0\n",
       "doc_string: \"\"\n",
       "graph {\n",
       "  node {\n",
       "    input: \"float_input\"\n",
       "    input: \"mean\"\n",
       "    output: \"sub_result\"\n",
       "    name: \"Sub\"\n",
       "    op_type: \"Sub\"\n",
       "    domain: \"\"\n",
       "  }\n",
       "  node {\n",
       "    input: \"sub_result\"\n",
       "    input: \"transform_matrix\"\n",
       "    output: \"variable\"\n",
       "    name: \"MatMul\"\n",
       "    op_type: \"MatMul\"\n",
       "    domain: \"\"\n",
       "  }\n",
       "  node {\n",
       "    input: \"variable\"\n",
       "    output: \"label\"\n",
       "    output: \"probability_tensor\"\n",
       "    name: \"LinearClassifier\"\n",
       "    op_type: \"LinearClassifier\"\n",
       "    attribute {\n",
       "      name: \"classlabels_ints\"\n",
       "      ints: 0\n",
       "      ints: 1\n",
       "      ints: 2\n",
       "      type: INTS\n",
       "    }\n",
       "    attribute {\n",
       "      name: \"coefficients\"\n",
       "      floats: -2.6541717052459717\n",
       "      floats: 0.924582839012146\n",
       "      floats: -0.2773626446723938\n",
       "      floats: 0.2747637629508972\n",
       "      floats: 2.9315342903137207\n",
       "      floats: -1.199346661567688\n",
       "      type: FLOATS\n",
       "    }\n",
       "    attribute {\n",
       "      name: \"intercepts\"\n",
       "      floats: -0.4931544065475464\n",
       "      floats: 2.3120181560516357\n",
       "      floats: -1.8188637495040894\n",
       "      type: FLOATS\n",
       "    }\n",
       "    attribute {\n",
       "      name: \"multi_class\"\n",
       "      i: 1\n",
       "      type: INT\n",
       "    }\n",
       "    attribute {\n",
       "      name: \"post_transform\"\n",
       "      s: \"SOFTMAX\"\n",
       "      type: STRING\n",
       "    }\n",
       "    domain: \"ai.onnx.ml\"\n",
       "  }\n",
       "  node {\n",
       "    input: \"label\"\n",
       "    output: \"output_label\"\n",
       "    name: \"Cast\"\n",
       "    op_type: \"Cast\"\n",
       "    attribute {\n",
       "      name: \"to\"\n",
       "      i: 7\n",
       "      type: INT\n",
       "    }\n",
       "    domain: \"\"\n",
       "  }\n",
       "  node {\n",
       "    input: \"probability_tensor\"\n",
       "    output: \"probabilities\"\n",
       "    name: \"Normalizer\"\n",
       "    op_type: \"Normalizer\"\n",
       "    attribute {\n",
       "      name: \"norm\"\n",
       "      s: \"L1\"\n",
       "      type: STRING\n",
       "    }\n",
       "    domain: \"ai.onnx.ml\"\n",
       "  }\n",
       "  node {\n",
       "    input: \"probabilities\"\n",
       "    output: \"output_probability\"\n",
       "    name: \"ZipMap\"\n",
       "    op_type: \"ZipMap\"\n",
       "    attribute {\n",
       "      name: \"classlabels_int64s\"\n",
       "      ints: 0\n",
       "      ints: 1\n",
       "      ints: 2\n",
       "      type: INTS\n",
       "    }\n",
       "    domain: \"ai.onnx.ml\"\n",
       "  }\n",
       "  name: \"b36385bd567a4df2b560ae33959a59b8\"\n",
       "  initializer {\n",
       "    dims: 4\n",
       "    dims: 2\n",
       "    data_type: 1\n",
       "    float_data: 0.3621252477169037\n",
       "    float_data: 0.6516144275665283\n",
       "    float_data: -0.07516071200370789\n",
       "    float_data: 0.733102560043335\n",
       "    float_data: 0.8572763204574585\n",
       "    float_data: -0.1765507310628891\n",
       "    float_data: 0.35818082094192505\n",
       "    float_data: -0.08239627629518509\n",
       "    name: \"transform_matrix\"\n",
       "  }\n",
       "  initializer {\n",
       "    dims: 4\n",
       "    data_type: 1\n",
       "    float_data: 5.862500190734863\n",
       "    float_data: 3.055000066757202\n",
       "    float_data: 3.7841665744781494\n",
       "    float_data: 1.2166666984558105\n",
       "    name: \"mean\"\n",
       "  }\n",
       "  input {\n",
       "    name: \"float_input\"\n",
       "    type {\n",
       "      tensor_type {\n",
       "        elem_type: 1\n",
       "        shape {\n",
       "          dim {\n",
       "          }\n",
       "          dim {\n",
       "            dim_value: 4\n",
       "          }\n",
       "        }\n",
       "      }\n",
       "    }\n",
       "  }\n",
       "  output {\n",
       "    name: \"output_label\"\n",
       "    type {\n",
       "      tensor_type {\n",
       "        elem_type: 7\n",
       "        shape {\n",
       "          dim {\n",
       "          }\n",
       "        }\n",
       "      }\n",
       "    }\n",
       "  }\n",
       "  output {\n",
       "    name: \"output_probability\"\n",
       "    type {\n",
       "      sequence_type {\n",
       "        elem_type {\n",
       "          map_type {\n",
       "            key_type: 7\n",
       "            value_type {\n",
       "              tensor_type {\n",
       "                elem_type: 1\n",
       "              }\n",
       "            }\n",
       "          }\n",
       "        }\n",
       "      }\n",
       "    }\n",
       "  }\n",
       "}\n",
       "opset_import {\n",
       "  domain: \"\"\n",
       "  version: 13\n",
       "}\n",
       "opset_import {\n",
       "  domain: \"ai.onnx.ml\"\n",
       "  version: 1\n",
       "}"
      ]
     },
     "execution_count": 9,
     "metadata": {},
     "output_type": "execute_result"
    }
   ],
   "execution_count": 9
  },
  {
   "metadata": {
    "ExecuteTime": {
     "end_time": "2024-05-20T21:42:47.285110Z",
     "start_time": "2024-05-20T21:42:47.257986Z"
    }
   },
   "cell_type": "code",
   "source": [
    "\n",
    "# Save the model to a file\n",
    "with open(\"pipeline.onnx\", \"wb\") as f:\n",
    "    f.write(onnx_model.SerializeToString())"
   ],
   "id": "3b574f77d2f8c358",
   "outputs": [],
   "execution_count": 10
  },
  {
   "metadata": {},
   "cell_type": "markdown",
   "source": [
    "Please note that once the model is in ONNX format, you cannot apply PCA or any other scikit-learn operations to it. All transformations and training should be done prior to conversion.\n",
    "\n",
    "If you need to apply PCA to new data using the ONNX model, you would need to apply PCA to your data separately and then pass the transformed data to the ONNX model for inference."
   ],
   "id": "31e0e68f3b90bc45"
  },
  {
   "metadata": {
    "ExecuteTime": {
     "end_time": "2024-05-20T21:40:15.497448Z",
     "start_time": "2024-05-20T21:40:15.469672Z"
    }
   },
   "cell_type": "code",
   "source": [
    "\n",
    "# Load the ONNX model and run inference\n",
    "import onnxruntime as rt\n",
    "\n",
    "sess = rt.InferenceSession(\"pipeline.onnx\")\n",
    "sess"
   ],
   "id": "a7d57bc33ce9306d",
   "outputs": [
    {
     "data": {
      "text/plain": [
       "<onnxruntime.capi.onnxruntime_inference_collection.InferenceSession at 0x7fe4890825b0>"
      ]
     },
     "execution_count": 7,
     "metadata": {},
     "output_type": "execute_result"
    }
   ],
   "execution_count": 7
  },
  {
   "metadata": {
    "ExecuteTime": {
     "end_time": "2024-05-20T22:11:52.615696Z",
     "start_time": "2024-05-20T22:11:52.586696Z"
    }
   },
   "cell_type": "code",
   "source": [
    "input_name = sess.get_inputs()[0].name\n",
    "input_name"
   ],
   "id": "c51236cb03c24f7",
   "outputs": [
    {
     "data": {
      "text/plain": [
       "'float_input'"
      ]
     },
     "execution_count": 11,
     "metadata": {},
     "output_type": "execute_result"
    }
   ],
   "execution_count": 11
  },
  {
   "metadata": {
    "ExecuteTime": {
     "end_time": "2024-05-20T22:12:01.874327Z",
     "start_time": "2024-05-20T22:12:01.864120Z"
    }
   },
   "cell_type": "code",
   "source": [
    "label_name = sess.get_outputs()[0].name\n",
    "label_name"
   ],
   "id": "2c6683909444a6d7",
   "outputs": [
    {
     "data": {
      "text/plain": [
       "'output_label'"
      ]
     },
     "execution_count": 12,
     "metadata": {},
     "output_type": "execute_result"
    }
   ],
   "execution_count": 12
  },
  {
   "metadata": {
    "ExecuteTime": {
     "end_time": "2024-05-20T22:14:46.410488Z",
     "start_time": "2024-05-20T22:14:46.396230Z"
    }
   },
   "cell_type": "code",
   "source": "X_test",
   "id": "7d5284950141e4b1",
   "outputs": [
    {
     "data": {
      "text/plain": [
       "array([[5.1, 3.5, 1.4, 0.2],\n",
       "       [4.6, 3.2, 1.4, 0.2],\n",
       "       [5.6, 3. , 4.5, 1.5],\n",
       "       [6.6, 3. , 4.4, 1.4],\n",
       "       [6.3, 2.7, 4.9, 1.8],\n",
       "       [5.8, 2.7, 4.1, 1. ],\n",
       "       [5.2, 4.1, 1.5, 0.1],\n",
       "       [6.9, 3.2, 5.7, 2.3],\n",
       "       [5.5, 2.6, 4.4, 1.2],\n",
       "       [6.4, 2.7, 5.3, 1.9],\n",
       "       [4.4, 2.9, 1.4, 0.2],\n",
       "       [6.4, 3.2, 4.5, 1.5],\n",
       "       [5.7, 3. , 4.2, 1.2],\n",
       "       [5.9, 3. , 4.2, 1.5],\n",
       "       [4.9, 3.6, 1.4, 0.1],\n",
       "       [6.4, 3.1, 5.5, 1.8],\n",
       "       [6. , 2.2, 5. , 1.5],\n",
       "       [6.4, 2.8, 5.6, 2.1],\n",
       "       [5.1, 2.5, 3. , 1.1],\n",
       "       [6.1, 2.9, 4.7, 1.4],\n",
       "       [5.8, 2.7, 3.9, 1.2],\n",
       "       [5.1, 3.5, 1.4, 0.3],\n",
       "       [5.4, 3.9, 1.7, 0.4],\n",
       "       [7.7, 2.8, 6.7, 2. ],\n",
       "       [5.4, 3.7, 1.5, 0.2],\n",
       "       [6.7, 3. , 5.2, 2.3],\n",
       "       [4.3, 3. , 1.1, 0.1],\n",
       "       [6.7, 3. , 5. , 1.7],\n",
       "       [5.4, 3. , 4.5, 1.5],\n",
       "       [5.2, 3.5, 1.5, 0.2]])"
      ]
     },
     "execution_count": 16,
     "metadata": {},
     "output_type": "execute_result"
    }
   ],
   "execution_count": 16
  },
  {
   "metadata": {
    "ExecuteTime": {
     "end_time": "2024-05-20T22:15:50.107681Z",
     "start_time": "2024-05-20T22:15:50.087684Z"
    }
   },
   "cell_type": "code",
   "source": "y_test",
   "id": "9855f48d6ad7d43a",
   "outputs": [
    {
     "data": {
      "text/plain": [
       "array([0, 0, 1, 1, 2, 1, 0, 2, 1, 2, 0, 1, 1, 1, 0, 2, 2, 2, 1, 1, 1, 0,\n",
       "       0, 2, 0, 2, 0, 1, 1, 0])"
      ]
     },
     "execution_count": 17,
     "metadata": {},
     "output_type": "execute_result"
    }
   ],
   "execution_count": 17
  },
  {
   "metadata": {
    "ExecuteTime": {
     "end_time": "2024-05-20T22:13:05.487372Z",
     "start_time": "2024-05-20T22:13:05.473371Z"
    }
   },
   "cell_type": "code",
   "source": [
    " # test data\n",
    "test = X_test.astype(np.float32)\n",
    "test"
   ],
   "id": "d404443caaf4549b",
   "outputs": [
    {
     "data": {
      "text/plain": [
       "array([[5.1, 3.5, 1.4, 0.2],\n",
       "       [4.6, 3.2, 1.4, 0.2],\n",
       "       [5.6, 3. , 4.5, 1.5],\n",
       "       [6.6, 3. , 4.4, 1.4],\n",
       "       [6.3, 2.7, 4.9, 1.8],\n",
       "       [5.8, 2.7, 4.1, 1. ],\n",
       "       [5.2, 4.1, 1.5, 0.1],\n",
       "       [6.9, 3.2, 5.7, 2.3],\n",
       "       [5.5, 2.6, 4.4, 1.2],\n",
       "       [6.4, 2.7, 5.3, 1.9],\n",
       "       [4.4, 2.9, 1.4, 0.2],\n",
       "       [6.4, 3.2, 4.5, 1.5],\n",
       "       [5.7, 3. , 4.2, 1.2],\n",
       "       [5.9, 3. , 4.2, 1.5],\n",
       "       [4.9, 3.6, 1.4, 0.1],\n",
       "       [6.4, 3.1, 5.5, 1.8],\n",
       "       [6. , 2.2, 5. , 1.5],\n",
       "       [6.4, 2.8, 5.6, 2.1],\n",
       "       [5.1, 2.5, 3. , 1.1],\n",
       "       [6.1, 2.9, 4.7, 1.4],\n",
       "       [5.8, 2.7, 3.9, 1.2],\n",
       "       [5.1, 3.5, 1.4, 0.3],\n",
       "       [5.4, 3.9, 1.7, 0.4],\n",
       "       [7.7, 2.8, 6.7, 2. ],\n",
       "       [5.4, 3.7, 1.5, 0.2],\n",
       "       [6.7, 3. , 5.2, 2.3],\n",
       "       [4.3, 3. , 1.1, 0.1],\n",
       "       [6.7, 3. , 5. , 1.7],\n",
       "       [5.4, 3. , 4.5, 1.5],\n",
       "       [5.2, 3.5, 1.5, 0.2]], dtype=float32)"
      ]
     },
     "execution_count": 15,
     "metadata": {},
     "output_type": "execute_result"
    }
   ],
   "execution_count": 15
  },
  {
   "metadata": {},
   "cell_type": "code",
   "outputs": [
    {
     "name": "stdout",
     "output_type": "stream",
     "text": [
      "[2 1 0 2 2 2 1 1 1 0 0 1 1 2 2 1 2 1 1 2 1 1 0 1 2 2 0 1 0 1]\n"
     ]
    }
   ],
   "execution_count": 5,
   "source": [
    "\n",
    "pred_onx = sess.run([label_name], {input_name: test})[0]\n",
    "\n",
    "# Output the predictions from ONNX model\n",
    "print(pred_onx)\n"
   ],
   "id": "initial_id"
  },
  {
   "metadata": {
    "ExecuteTime": {
     "end_time": "2024-05-20T22:17:49.632743Z",
     "start_time": "2024-05-20T22:17:49.572369Z"
    }
   },
   "cell_type": "code",
   "source": [
    "from sklearn.metrics import accuracy_score\n",
    "print(accuracy_score(y_test,pred_onx)) \n",
    "# result is indeed not great"
   ],
   "id": "4b2e201375cc8f10",
   "outputs": [
    {
     "name": "stdout",
     "output_type": "stream",
     "text": [
      "0.4\n"
     ]
    }
   ],
   "execution_count": 18
  }
 ],
 "metadata": {
  "kernelspec": {
   "display_name": "Python 3",
   "language": "python",
   "name": "python3"
  },
  "language_info": {
   "codemirror_mode": {
    "name": "ipython",
    "version": 2
   },
   "file_extension": ".py",
   "mimetype": "text/x-python",
   "name": "python",
   "nbconvert_exporter": "python",
   "pygments_lexer": "ipython2",
   "version": "2.7.6"
  }
 },
 "nbformat": 4,
 "nbformat_minor": 5
}
