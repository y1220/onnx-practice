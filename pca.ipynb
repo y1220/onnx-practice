{
 "cells": [
  {
   "cell_type": "code",
   "id": "413f385d0015f6c0",
   "metadata": {
    "collapsed": true,
    "ExecuteTime": {
     "end_time": "2024-05-20T22:36:05.458678Z",
     "start_time": "2024-05-20T22:36:05.368441Z"
    }
   },
   "source": [
    "from sklearn.decomposition import PCA\n",
    "from skl2onnx import convert_sklearn\n",
    "from skl2onnx.common.data_types import FloatTensorType\n",
    "import numpy as np\n",
    "import onnxruntime as rt\n",
    "\n",
    "# Train a PCA model.\n",
    "X = np.array([[0., 0., 3.], [1., 1., 0.], [0., 2., 1.], [1., 0., 2.]])\n",
    "pca = PCA(n_components=2)\n",
    "pca.fit(X)\n",
    "x_transform = pca.transform(X)"
   ],
   "outputs": [],
   "execution_count": 8
  },
  {
   "metadata": {},
   "cell_type": "code",
   "outputs": [],
   "execution_count": 1,
   "source": [
    "\n",
    "# Convert to ONNX format.\n",
    "initial_type = [('float_input', FloatTensorType([None, X.shape[1]]))]\n",
    "onnx_model = convert_sklearn(pca, initial_types=initial_type)\n",
    "\n",
    "# Save to a file.\n",
    "with open(\"pca.onnx\", \"wb\") as f:\n",
    "    f.write(onnx_model.SerializeToString())"
   ],
   "id": "7eb73c853d865b83"
  },
  {
   "metadata": {
    "ExecuteTime": {
     "end_time": "2024-05-20T22:31:15.950373Z",
     "start_time": "2024-05-20T22:31:15.891610Z"
    }
   },
   "cell_type": "code",
   "source": [
    "\n",
    "# Load and run the model using ONNX Runtime.\n",
    "sess = rt.InferenceSession(\"pca.onnx\")\n",
    "input_name = sess.get_inputs()[0].name\n",
    "test = X.astype(np.float32)\n",
    "test"
   ],
   "id": "626bedf3481639e3",
   "outputs": [
    {
     "data": {
      "text/plain": [
       "array([[0., 0., 3.],\n",
       "       [1., 1., 0.],\n",
       "       [0., 2., 1.],\n",
       "       [1., 0., 2.]], dtype=float32)"
      ]
     },
     "execution_count": 5,
     "metadata": {},
     "output_type": "execute_result"
    }
   ],
   "execution_count": 5
  },
  {
   "metadata": {
    "ExecuteTime": {
     "end_time": "2024-05-20T22:49:47.150683Z",
     "start_time": "2024-05-20T22:49:47.139569Z"
    }
   },
   "cell_type": "code",
   "source": [
    "test_2 = np.array([[0., 2., 1.], [1., 1., 0.], [0., 2., 1.], [1., 0., 2.]])\n",
    "test_v2 = test_2.astype(np.float32)\n",
    "test_v2"
   ],
   "id": "52e3f92a7fdcb72",
   "outputs": [
    {
     "data": {
      "text/plain": [
       "array([[0., 2., 1.],\n",
       "       [1., 1., 0.],\n",
       "       [0., 2., 1.],\n",
       "       [1., 0., 2.]], dtype=float32)"
      ]
     },
     "execution_count": 14,
     "metadata": {},
     "output_type": "execute_result"
    }
   ],
   "execution_count": 14
  },
  {
   "metadata": {
    "ExecuteTime": {
     "end_time": "2024-05-20T22:49:56.002557Z",
     "start_time": "2024-05-20T22:49:55.938424Z"
    }
   },
   "cell_type": "code",
   "source": [
    "pred_onx = sess.run(None, {input_name: test_v2})[0]\n",
    "print(pred_onx)\n"
   ],
   "id": "initial_id",
   "outputs": [
    {
     "name": "stdout",
     "output_type": "stream",
     "text": [
      "[[-1.0274334   1.0000001 ]\n",
      " [-1.4498659  -0.6666667 ]\n",
      " [-1.0274334   1.0000001 ]\n",
      " [ 0.76491034 -0.6666667 ]]\n"
     ]
    }
   ],
   "execution_count": 15
  },
  {
   "metadata": {
    "ExecuteTime": {
     "end_time": "2024-05-20T22:36:40.358968Z",
     "start_time": "2024-05-20T22:36:40.342068Z"
    }
   },
   "cell_type": "code",
   "source": [
    "from sklearn.metrics import accuracy_score\n",
    "# print(accuracy_score(x_transform,pred_onx)) \n",
    "x_transform"
   ],
   "id": "31fe51defe879834",
   "outputs": [
    {
     "data": {
      "text/plain": [
       "array([[ 1.71238903,  0.33333333],\n",
       "       [-1.44986595, -0.66666667],\n",
       "       [-1.02743342,  1.        ],\n",
       "       [ 0.76491034, -0.66666667]])"
      ]
     },
     "execution_count": 10,
     "metadata": {},
     "output_type": "execute_result"
    }
   ],
   "execution_count": 10
  },
  {
   "metadata": {
    "ExecuteTime": {
     "end_time": "2024-05-20T22:36:54.544017Z",
     "start_time": "2024-05-20T22:36:54.524094Z"
    }
   },
   "cell_type": "code",
   "source": [
    "# identical as x_transform\n",
    "pred_onx "
   ],
   "id": "2dac613f218b388",
   "outputs": [
    {
     "data": {
      "text/plain": [
       "array([[ 1.7123891 ,  0.33333334],\n",
       "       [-1.4498659 , -0.6666667 ],\n",
       "       [-1.0274334 ,  1.0000001 ],\n",
       "       [ 0.76491034, -0.6666667 ]], dtype=float32)"
      ]
     },
     "execution_count": 11,
     "metadata": {},
     "output_type": "execute_result"
    }
   ],
   "execution_count": 11
  },
  {
   "metadata": {
    "ExecuteTime": {
     "end_time": "2024-05-20T22:52:38.820715Z",
     "start_time": "2024-05-20T22:52:38.779884Z"
    }
   },
   "cell_type": "code",
   "source": [
    "pca2 = PCA(n_components=2)\n",
    "pca2.fit(test_2)\n",
    "x_transform2 = pca2.transform(X)\n",
    "x_transform2"
   ],
   "id": "2560e0970f1f00b5",
   "outputs": [
    {
     "data": {
      "text/plain": [
       "array([[ 1.63299316e+00, -1.69118865e+00],\n",
       "       [ 3.88578059e-16,  1.14564392e+00],\n",
       "       [-8.16496581e-01, -3.81881308e-01],\n",
       "       [ 1.63299316e+00, -3.81881308e-01]])"
      ]
     },
     "execution_count": 17,
     "metadata": {},
     "output_type": "execute_result"
    }
   ],
   "execution_count": 17
  }
 ],
 "metadata": {
  "kernelspec": {
   "display_name": "Python 3",
   "language": "python",
   "name": "python3"
  },
  "language_info": {
   "codemirror_mode": {
    "name": "ipython",
    "version": 2
   },
   "file_extension": ".py",
   "mimetype": "text/x-python",
   "name": "python",
   "nbconvert_exporter": "python",
   "pygments_lexer": "ipython2",
   "version": "2.7.6"
  }
 },
 "nbformat": 4,
 "nbformat_minor": 5
}
